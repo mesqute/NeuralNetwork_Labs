{
 "cells": [
  {
   "cell_type": "markdown",
   "id": "71aafe11-d90d-4d90-89fd-06e73af34b11",
   "metadata": {},
   "source": [
    "Импорт библиотек"
   ]
  },
  {
   "cell_type": "code",
   "execution_count": 1,
   "id": "f3f5e11e-9304-44fe-b78d-f43b0cf9bce7",
   "metadata": {
    "tags": []
   },
   "outputs": [],
   "source": [
    "import tensorflow as tf\n",
    "import keras\n",
    "from keras.datasets import mnist\n",
    "import numpy as np\n",
    "from matplotlib import pyplot\n",
    "from tensorflow.keras.optimizers import SGD\n",
    "import tensorflow.keras.layers as layers\n",
    "\n"
   ]
  },
  {
   "cell_type": "markdown",
   "id": "3babb766-579c-4ffa-aacc-7810994d266b",
   "metadata": {},
   "source": [
    "Модуль для ограничения потребления видеопамяти (4 гига)"
   ]
  },
  {
   "cell_type": "code",
   "execution_count": 2,
   "id": "d9f4c582-fd3c-497a-aaa2-badc32c10b26",
   "metadata": {},
   "outputs": [],
   "source": [
    "gpus = tf.config.list_physical_devices('GPU')\n",
    "if gpus:\n",
    "  try:\n",
    "    tf.config.set_logical_device_configuration(\n",
    "        gpus[0],\n",
    "        [tf.config.LogicalDeviceConfiguration(memory_limit=4096)])\n",
    "  except RuntimeError as e:\n",
    "    # Virtual devices must be set before GPUs have been initialized\n",
    "    print(e)"
   ]
  },
  {
   "cell_type": "code",
   "execution_count": 3,
   "id": "c2156ac9-9994-4b5e-9bf8-eae2adaaff76",
   "metadata": {},
   "outputs": [],
   "source": [
    "BATCH_SIZE = 32\n",
    "IMAGE_SIZE = (28, 28)"
   ]
  },
  {
   "cell_type": "markdown",
   "id": "f2ae99b1-1952-4f90-82d7-8a9b064ecc7b",
   "metadata": {},
   "source": [
    "Загрузка данных для обучения и тестирования"
   ]
  },
  {
   "cell_type": "code",
   "execution_count": 4,
   "id": "01154d4e-d40e-41f5-a5d9-916dbfd2573e",
   "metadata": {},
   "outputs": [],
   "source": [
    "(x_train, y_train), (x_test, y_test) = mnist.load_data()\n",
    "\n",
    "x_train, x_test = x_train / 255.0, x_test / 255.0\n",
    "\n",
    "y_train = y_train.astype('float32') \n",
    "y_test = y_test.astype('float32') \n"
   ]
  },
  {
   "cell_type": "code",
   "execution_count": 5,
   "id": "4644ed7d-2164-4f81-baf5-e34f484a85e9",
   "metadata": {},
   "outputs": [
    {
     "name": "stdout",
     "output_type": "stream",
     "text": [
      "X_train: (60000, 28, 28)\n",
      "Y_train: (60000,)\n",
      "X_test:  (10000, 28, 28)\n",
      "Y_test:  (10000,)\n"
     ]
    }
   ],
   "source": [
    "print('X_train: '  + str(x_train.shape))\n",
    "print('Y_train: '  + str(y_train.shape))\n",
    "print('X_test:  '  + str(x_test.shape))\n",
    "print('Y_test:  '  + str(y_test.shape))\n"
   ]
  },
  {
   "cell_type": "code",
   "execution_count": 6,
   "id": "9006e851-bd8b-4be4-b38d-eb937d0759b2",
   "metadata": {},
   "outputs": [],
   "source": [
    "model = tf.keras.models.Sequential([\n",
    "    layers.LSTM(64, input_shape=(IMAGE_SIZE[0], IMAGE_SIZE[1]), dropout=0.2),\n",
    "    \n",
    "    layers.BatchNormalization(),\n",
    "    \n",
    "    layers.Dropout(0.5),\n",
    "    layers.Dense(10)\n",
    "])"
   ]
  },
  {
   "cell_type": "markdown",
   "id": "7f57c207-1da0-447f-afe6-8a8ba0f83125",
   "metadata": {},
   "source": [
    "Определение оптимизатора, метода расчета потерь и собираемых метрик"
   ]
  },
  {
   "cell_type": "code",
   "execution_count": 7,
   "id": "7f778e2c-80c9-4fce-b0bb-e1f308c0f065",
   "metadata": {},
   "outputs": [
    {
     "name": "stdout",
     "output_type": "stream",
     "text": [
      "Model: \"sequential\"\n",
      "_________________________________________________________________\n",
      " Layer (type)                Output Shape              Param #   \n",
      "=================================================================\n",
      " lstm (LSTM)                 (None, 64)                23808     \n",
      "                                                                 \n",
      " batch_normalization (BatchN  (None, 64)               256       \n",
      " ormalization)                                                   \n",
      "                                                                 \n",
      " dropout (Dropout)           (None, 64)                0         \n",
      "                                                                 \n",
      " dense (Dense)               (None, 10)                650       \n",
      "                                                                 \n",
      "=================================================================\n",
      "Total params: 24,714\n",
      "Trainable params: 24,586\n",
      "Non-trainable params: 128\n",
      "_________________________________________________________________\n"
     ]
    }
   ],
   "source": [
    "opt = SGD(learning_rate=0.001, momentum=0.9)\n",
    "model.compile(\n",
    "    optimizer=opt,\n",
    "    loss=keras.losses.SparseCategoricalCrossentropy(from_logits=True),\n",
    "    metrics=['sparse_categorical_accuracy'])\n",
    "model.summary()"
   ]
  },
  {
   "cell_type": "markdown",
   "id": "6e68c637-e436-437a-b91c-2554c8b632d8",
   "metadata": {},
   "source": [
    "Обучение модели"
   ]
  },
  {
   "cell_type": "code",
   "execution_count": 8,
   "id": "a4a3b2b0-15dc-4c0a-b5fc-040955fcde5a",
   "metadata": {},
   "outputs": [
    {
     "name": "stdout",
     "output_type": "stream",
     "text": [
      "Epoch 1/20\n",
      "1875/1875 [==============================] - 24s 11ms/step - loss: 0.9919 - sparse_categorical_accuracy: 0.6675 - val_loss: 0.3617 - val_sparse_categorical_accuracy: 0.8849\n",
      "Epoch 2/20\n",
      "1875/1875 [==============================] - 19s 10ms/step - loss: 0.4229 - sparse_categorical_accuracy: 0.8662 - val_loss: 0.2183 - val_sparse_categorical_accuracy: 0.9304\n",
      "Epoch 3/20\n",
      "1875/1875 [==============================] - 20s 11ms/step - loss: 0.2989 - sparse_categorical_accuracy: 0.9078 - val_loss: 0.3104 - val_sparse_categorical_accuracy: 0.8997\n",
      "Epoch 4/20\n",
      "1875/1875 [==============================] - 20s 11ms/step - loss: 0.2488 - sparse_categorical_accuracy: 0.9237 - val_loss: 0.1546 - val_sparse_categorical_accuracy: 0.9494\n",
      "Epoch 5/20\n",
      "1875/1875 [==============================] - 20s 11ms/step - loss: 0.2151 - sparse_categorical_accuracy: 0.9349 - val_loss: 0.1193 - val_sparse_categorical_accuracy: 0.9620\n",
      "Epoch 6/20\n",
      "1875/1875 [==============================] - 21s 11ms/step - loss: 0.1949 - sparse_categorical_accuracy: 0.9429 - val_loss: 0.1101 - val_sparse_categorical_accuracy: 0.9667\n",
      "Epoch 7/20\n",
      "1875/1875 [==============================] - 20s 11ms/step - loss: 0.1751 - sparse_categorical_accuracy: 0.9486 - val_loss: 0.1182 - val_sparse_categorical_accuracy: 0.9641\n",
      "Epoch 8/20\n",
      "1875/1875 [==============================] - 18s 10ms/step - loss: 0.1642 - sparse_categorical_accuracy: 0.9533 - val_loss: 0.1008 - val_sparse_categorical_accuracy: 0.9681\n",
      "Epoch 9/20\n",
      "1875/1875 [==============================] - 17s 9ms/step - loss: 0.1530 - sparse_categorical_accuracy: 0.9548 - val_loss: 0.1014 - val_sparse_categorical_accuracy: 0.9685\n",
      "Epoch 10/20\n",
      "1875/1875 [==============================] - 20s 11ms/step - loss: 0.1457 - sparse_categorical_accuracy: 0.9572 - val_loss: 0.0799 - val_sparse_categorical_accuracy: 0.9753\n",
      "Epoch 11/20\n",
      "1875/1875 [==============================] - 24s 13ms/step - loss: 0.1368 - sparse_categorical_accuracy: 0.9599 - val_loss: 0.0820 - val_sparse_categorical_accuracy: 0.9758\n",
      "Epoch 12/20\n",
      "1875/1875 [==============================] - 24s 13ms/step - loss: 0.1295 - sparse_categorical_accuracy: 0.9627 - val_loss: 0.0807 - val_sparse_categorical_accuracy: 0.9766\n",
      "Epoch 13/20\n",
      "1875/1875 [==============================] - 23s 12ms/step - loss: 0.1277 - sparse_categorical_accuracy: 0.9628 - val_loss: 0.0818 - val_sparse_categorical_accuracy: 0.9749\n",
      "Epoch 14/20\n",
      "1875/1875 [==============================] - 19s 10ms/step - loss: 0.1248 - sparse_categorical_accuracy: 0.9643 - val_loss: 0.0714 - val_sparse_categorical_accuracy: 0.9783\n",
      "Epoch 15/20\n",
      "1875/1875 [==============================] - 18s 9ms/step - loss: 0.1170 - sparse_categorical_accuracy: 0.9664 - val_loss: 0.0644 - val_sparse_categorical_accuracy: 0.9814\n",
      "Epoch 16/20\n",
      "1875/1875 [==============================] - 18s 10ms/step - loss: 0.1180 - sparse_categorical_accuracy: 0.9661 - val_loss: 0.0609 - val_sparse_categorical_accuracy: 0.9800\n",
      "Epoch 17/20\n",
      "1875/1875 [==============================] - 18s 10ms/step - loss: 0.1097 - sparse_categorical_accuracy: 0.9687 - val_loss: 0.0634 - val_sparse_categorical_accuracy: 0.9794\n",
      "Epoch 18/20\n",
      "1875/1875 [==============================] - 19s 10ms/step - loss: 0.1087 - sparse_categorical_accuracy: 0.9685 - val_loss: 0.0791 - val_sparse_categorical_accuracy: 0.9764\n",
      "Epoch 19/20\n",
      "1875/1875 [==============================] - 20s 11ms/step - loss: 0.1029 - sparse_categorical_accuracy: 0.9704 - val_loss: 0.0565 - val_sparse_categorical_accuracy: 0.9818\n",
      "Epoch 20/20\n",
      "1875/1875 [==============================] - 19s 10ms/step - loss: 0.1039 - sparse_categorical_accuracy: 0.9706 - val_loss: 0.0664 - val_sparse_categorical_accuracy: 0.9793\n"
     ]
    }
   ],
   "source": [
    "result = model.fit(\n",
    "    x=x_train,\n",
    "    y=y_train,\n",
    "    batch_size=BATCH_SIZE,\n",
    "    epochs=20,\n",
    "    validation_data=(x_test,y_test),\n",
    "    shuffle=True,\n",
    "    verbose=True)"
   ]
  },
  {
   "cell_type": "markdown",
   "id": "d5d85247-8eb7-40a0-89fc-8acceaa46fd7",
   "metadata": {},
   "source": [
    "Проверка точности"
   ]
  },
  {
   "cell_type": "code",
   "execution_count": 9,
   "id": "d200589b-ddbe-4d3c-94f4-8459dc4302e5",
   "metadata": {
    "tags": []
   },
   "outputs": [
    {
     "name": "stdout",
     "output_type": "stream",
     "text": [
      "1875/1875 [==============================] - 10s 5ms/step - loss: 0.0563 - sparse_categorical_accuracy: 0.9827\n",
      "Точность на обучающай выборке: 98.27499985694885%\n"
     ]
    }
   ],
   "source": [
    "score = model.evaluate(x = x_train,y = y_train, verbose=1)\n",
    "print('Точность на обучающай выборке: {}%'.format(score[1]*100))"
   ]
  },
  {
   "cell_type": "code",
   "execution_count": 10,
   "id": "40003916-115c-4ee7-88c6-c5dd2972f570",
   "metadata": {
    "tags": []
   },
   "outputs": [
    {
     "name": "stdout",
     "output_type": "stream",
     "text": [
      "313/313 [==============================] - 2s 5ms/step - loss: 0.0664 - sparse_categorical_accuracy: 0.9793\n",
      "Точность на тестовой выборке: 97.93000221252441%\n"
     ]
    }
   ],
   "source": [
    "score = model.evaluate(x = x_test,y = y_test, verbose=1)\n",
    "print('Точность на тестовой выборке: {}%'.format(score[1]*100))"
   ]
  },
  {
   "cell_type": "markdown",
   "id": "ac64f3b0-290e-4b25-8bd7-461393683d04",
   "metadata": {},
   "source": [
    "Построение графиков"
   ]
  },
  {
   "cell_type": "code",
   "execution_count": 11,
   "id": "bca9b88a-9498-4c54-8b59-b37ae10f7178",
   "metadata": {},
   "outputs": [
    {
     "data": {
      "image/png": "[encoded data removed]",
      "text/plain": [
       "<Figure size 1200x500 with 2 Axes>"
      ]
     },
     "metadata": {
      "needs_background": "light"
     },
     "output_type": "display_data"
    }
   ],
   "source": [
    "#Графики\n",
    "px = 1/pyplot.rcParams['figure.dpi']\n",
    "fig, (ax1,ax2) = pyplot.subplots(ncols=2, figsize=(1200*px,500*px))\n",
    "\n",
    "ax1.plot(result.history['loss'], color='green')\n",
    "ax1.plot(result.history['val_loss'], color='red')\n",
    "ax1.legend(['loss','val_loss'])\n",
    "ax1.set_ylabel('loss')\n",
    "ax1.set_xlabel('epoch')\n",
    "ax1.grid(True)\n",
    "\n",
    "ax2.plot(result.history['sparse_categorical_accuracy'], color='green')\n",
    "ax2.plot(result.history['val_sparse_categorical_accuracy'], color='red')\n",
    "ax2.legend(['accuracy','val_accuracy'])\n",
    "ax2.set_ylabel('accuracy')\n",
    "ax2.set_xlabel('epoch')\n",
    "ax2.grid(True)"
   ]
  },
  {
   "cell_type": "code",
   "execution_count": null,
   "id": "229aaf0b-9bb7-4edb-81c6-42361e5a010a",
   "metadata": {},
   "outputs": [],
   "source": []
  }
 ],
 "metadata": {
  "kernelspec": {
   "display_name": "Python 3 (ipykernel)",
   "language": "python",
   "name": "python3"
  },
  "language_info": {
   "codemirror_mode": {
    "name": "ipython",
    "version": 3
   },
   "file_extension": ".py",
   "mimetype": "text/x-python",
   "name": "python",
   "nbconvert_exporter": "python",
   "pygments_lexer": "ipython3",
   "version": "3.9.7"
  }
 },
 "nbformat": 4,
 "nbformat_minor": 5
}
