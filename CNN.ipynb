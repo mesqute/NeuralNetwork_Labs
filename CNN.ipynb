{
 "cells": [
  {
   "cell_type": "markdown",
   "id": "cfae1897-e5c4-4041-ab3f-4fd237093a67",
   "metadata": {},
   "source": [
    "Импорт библиотек"
   ]
  },
  {
   "cell_type": "code",
   "execution_count": 1,
   "id": "d1c8ca67-a2df-4ab9-921d-9895f6c7f933",
   "metadata": {},
   "outputs": [],
   "source": [
    "import tensorflow as tf\n",
    "from keras.datasets import mnist\n",
    "import numpy as np\n",
    "from matplotlib import pyplot\n",
    "from tensorflow.keras.optimizers import SGD\n",
    "import tensorflow.keras.layers as layers"
   ]
  },
  {
   "cell_type": "markdown",
   "id": "a2812402-6d12-4d24-9693-438a9b91e1d9",
   "metadata": {},
   "source": [
    "Модуль для ограничения потребления видеопамяти (4 гига)"
   ]
  },
  {
   "cell_type": "code",
   "execution_count": 2,
   "id": "29b7f021-3700-4584-adfe-f7332572db09",
   "metadata": {},
   "outputs": [],
   "source": [
    "gpus = tf.config.list_physical_devices('GPU')\n",
    "if gpus:\n",
    "  # Restrict TensorFlow to only allocate 1GB of memory on the first GPU\n",
    "  try:\n",
    "    tf.config.set_logical_device_configuration(\n",
    "        gpus[0],\n",
    "        [tf.config.LogicalDeviceConfiguration(memory_limit=4096)])\n",
    "  except RuntimeError as e:\n",
    "    # Virtual devices must be set before GPUs have been initialized\n",
    "    print(e)"
   ]
  },
  {
   "cell_type": "code",
   "execution_count": 3,
   "id": "fac36cdb-1d10-42a9-8c58-ef645409b582",
   "metadata": {},
   "outputs": [],
   "source": [
    "BATCH_SIZE = 32\n",
    "IMAGE_SIZE = (28, 28)"
   ]
  },
  {
   "cell_type": "markdown",
   "id": "86c739b8-2d9f-4e22-8e0a-c137ee186090",
   "metadata": {},
   "source": [
    "Загрузка данных для обучения и тестирования"
   ]
  },
  {
   "cell_type": "code",
   "execution_count": 4,
   "id": "24bb731b-8def-4db8-a76c-3dcc3adeb786",
   "metadata": {},
   "outputs": [],
   "source": [
    "(x_train, y_train), (x_test, y_test) = mnist.load_data()\n",
    "y_train = y_train.astype('float32')\n",
    "y_test = y_test.astype('float32')\n"
   ]
  },
  {
   "cell_type": "code",
   "execution_count": 5,
   "id": "430b2984-6e8c-4ffd-ac05-89f21b2cc20b",
   "metadata": {},
   "outputs": [
    {
     "name": "stdout",
     "output_type": "stream",
     "text": [
      "X_train: (60000, 28, 28)\n",
      "Y_train: (60000,)\n",
      "X_test:  (10000, 28, 28)\n",
      "Y_test:  (10000,)\n"
     ]
    }
   ],
   "source": [
    "print('X_train: '  + str(x_train.shape))\n",
    "print('Y_train: '  + str(y_train.shape))\n",
    "print('X_test:  '  + str(x_test.shape))\n",
    "print('Y_test:  '  + str(y_test.shape))\n"
   ]
  },
  {
   "cell_type": "code",
   "execution_count": 6,
   "id": "ea574751-76be-4a7d-b07b-b7738a194eba",
   "metadata": {},
   "outputs": [
    {
     "data": {
      "image/png": "[encoded data removed]",
      "text/plain": [
       "<Figure size 432x288 with 9 Axes>"
      ]
     },
     "metadata": {
      "needs_background": "light"
     },
     "output_type": "display_data"
    }
   ],
   "source": [
    "for i in range(9):  \n",
    "    pyplot.subplot(330 + 1 + i)\n",
    "    pyplot.imshow(x_train[i], cmap=pyplot.get_cmap('gray'))\n",
    "pyplot.show()"
   ]
  },
  {
   "cell_type": "code",
   "execution_count": 7,
   "id": "ea007a91-fe4c-442c-a4d1-1ed142fe8159",
   "metadata": {
    "tags": []
   },
   "outputs": [],
   "source": [
    "model = tf.keras.models.Sequential([\n",
    "    layers.Conv2D(32, (3, 3), activation='relu', padding='same', input_shape=(IMAGE_SIZE[0], IMAGE_SIZE[1], 1)),\n",
    "    layers.MaxPooling2D(2, 2),\n",
    "    layers.Dropout(0.2),\n",
    "    \n",
    "    layers.Conv2D(64, (3, 3), activation='relu', padding='same'),\n",
    "    layers.MaxPooling2D(2, 2),\n",
    "    layers.Dropout(0.2),\n",
    "    \n",
    "    layers.Conv2D(128, (3, 3), activation='relu', padding='same'),\n",
    "    layers.MaxPooling2D(2, 2),\n",
    "    layers.Dropout(0.2),\n",
    "    \n",
    "    layers.Flatten(),\n",
    "    layers.Dense(128, activation='relu'),\n",
    "    layers.Dropout(0.5),\n",
    "    layers.Dense(10, activation='sigmoid')\n",
    "])"
   ]
  },
  {
   "cell_type": "markdown",
   "id": "7cabdfa7-d713-4b8b-8495-f3332d40b129",
   "metadata": {},
   "source": [
    "Определение оптимизатора, метода расчета потерь и собираемых метрик"
   ]
  },
  {
   "cell_type": "code",
   "execution_count": 8,
   "id": "99d46911-3f6b-4dad-8af8-cac45159506a",
   "metadata": {},
   "outputs": [
    {
     "name": "stdout",
     "output_type": "stream",
     "text": [
      "Model: \"sequential\"\n",
      "_________________________________________________________________\n",
      " Layer (type)                Output Shape              Param #   \n",
      "=================================================================\n",
      " conv2d (Conv2D)             (None, 28, 28, 32)        320       \n",
      "                                                                 \n",
      " max_pooling2d (MaxPooling2D  (None, 14, 14, 32)       0         \n",
      " )                                                               \n",
      "                                                                 \n",
      " dropout (Dropout)           (None, 14, 14, 32)        0         \n",
      "                                                                 \n",
      " conv2d_1 (Conv2D)           (None, 14, 14, 64)        18496     \n",
      "                                                                 \n",
      " max_pooling2d_1 (MaxPooling  (None, 7, 7, 64)         0         \n",
      " 2D)                                                             \n",
      "                                                                 \n",
      " dropout_1 (Dropout)         (None, 7, 7, 64)          0         \n",
      "                                                                 \n",
      " conv2d_2 (Conv2D)           (None, 7, 7, 128)         73856     \n",
      "                                                                 \n",
      " max_pooling2d_2 (MaxPooling  (None, 3, 3, 128)        0         \n",
      " 2D)                                                             \n",
      "                                                                 \n",
      " dropout_2 (Dropout)         (None, 3, 3, 128)         0         \n",
      "                                                                 \n",
      " flatten (Flatten)           (None, 1152)              0         \n",
      "                                                                 \n",
      " dense (Dense)               (None, 128)               147584    \n",
      "                                                                 \n",
      " dropout_3 (Dropout)         (None, 128)               0         \n",
      "                                                                 \n",
      " dense_1 (Dense)             (None, 10)                1290      \n",
      "                                                                 \n",
      "=================================================================\n",
      "Total params: 241,546\n",
      "Trainable params: 241,546\n",
      "Non-trainable params: 0\n",
      "_________________________________________________________________\n"
     ]
    }
   ],
   "source": [
    "opt = SGD(learning_rate=0.001, momentum=0.9)\n",
    "model.compile(\n",
    "    optimizer=opt,\n",
    "    loss='sparse_categorical_crossentropy',\n",
    "    metrics=['sparse_categorical_accuracy'])\n",
    "model.summary()"
   ]
  },
  {
   "cell_type": "markdown",
   "id": "5899d140-92e6-4f87-af1e-3904cb5a914c",
   "metadata": {},
   "source": [
    "Обучение модели"
   ]
  },
  {
   "cell_type": "code",
   "execution_count": 9,
   "id": "147ad55b-02d8-40a2-84ee-6a097e5d6925",
   "metadata": {},
   "outputs": [
    {
     "name": "stdout",
     "output_type": "stream",
     "text": [
      "Epoch 1/20\n",
      "1875/1875 [==============================] - 22s 10ms/step - loss: 0.8785 - sparse_categorical_accuracy: 0.7224 - val_loss: 0.1524 - val_sparse_categorical_accuracy: 0.9556\n",
      "Epoch 2/20\n",
      "1875/1875 [==============================] - 18s 10ms/step - loss: 0.3399 - sparse_categorical_accuracy: 0.8944 - val_loss: 0.1065 - val_sparse_categorical_accuracy: 0.9667\n",
      "Epoch 3/20\n",
      "1875/1875 [==============================] - 19s 10ms/step - loss: 0.2607 - sparse_categorical_accuracy: 0.9213 - val_loss: 0.0862 - val_sparse_categorical_accuracy: 0.9733\n",
      "Epoch 4/20\n",
      "1875/1875 [==============================] - 19s 10ms/step - loss: 0.2181 - sparse_categorical_accuracy: 0.9347 - val_loss: 0.0601 - val_sparse_categorical_accuracy: 0.9805\n",
      "Epoch 5/20\n",
      "1875/1875 [==============================] - 19s 10ms/step - loss: 0.1955 - sparse_categorical_accuracy: 0.9422 - val_loss: 0.0544 - val_sparse_categorical_accuracy: 0.9831\n",
      "Epoch 6/20\n",
      "1875/1875 [==============================] - 19s 10ms/step - loss: 0.1734 - sparse_categorical_accuracy: 0.9479 - val_loss: 0.0529 - val_sparse_categorical_accuracy: 0.9844\n",
      "Epoch 7/20\n",
      "1875/1875 [==============================] - 19s 10ms/step - loss: 0.1599 - sparse_categorical_accuracy: 0.9527 - val_loss: 0.0457 - val_sparse_categorical_accuracy: 0.9841\n",
      "Epoch 8/20\n",
      "1875/1875 [==============================] - 19s 10ms/step - loss: 0.1501 - sparse_categorical_accuracy: 0.9560 - val_loss: 0.0434 - val_sparse_categorical_accuracy: 0.9861\n",
      "Epoch 9/20\n",
      "1875/1875 [==============================] - 19s 10ms/step - loss: 0.1389 - sparse_categorical_accuracy: 0.9587 - val_loss: 0.0473 - val_sparse_categorical_accuracy: 0.9845\n",
      "Epoch 10/20\n",
      "1875/1875 [==============================] - 20s 10ms/step - loss: 0.1320 - sparse_categorical_accuracy: 0.9615 - val_loss: 0.0400 - val_sparse_categorical_accuracy: 0.9871\n",
      "Epoch 11/20\n",
      "1875/1875 [==============================] - 19s 10ms/step - loss: 0.1240 - sparse_categorical_accuracy: 0.9629 - val_loss: 0.0385 - val_sparse_categorical_accuracy: 0.9875\n",
      "Epoch 12/20\n",
      "1875/1875 [==============================] - 19s 10ms/step - loss: 0.1139 - sparse_categorical_accuracy: 0.9669 - val_loss: 0.0336 - val_sparse_categorical_accuracy: 0.9878\n",
      "Epoch 13/20\n",
      "1875/1875 [==============================] - 19s 10ms/step - loss: 0.1110 - sparse_categorical_accuracy: 0.9676 - val_loss: 0.0356 - val_sparse_categorical_accuracy: 0.9889\n",
      "Epoch 14/20\n",
      "1875/1875 [==============================] - 17s 9ms/step - loss: 0.1049 - sparse_categorical_accuracy: 0.9693 - val_loss: 0.0360 - val_sparse_categorical_accuracy: 0.9888\n",
      "Epoch 15/20\n",
      "1875/1875 [==============================] - 18s 10ms/step - loss: 0.1006 - sparse_categorical_accuracy: 0.9699 - val_loss: 0.0355 - val_sparse_categorical_accuracy: 0.9889\n",
      "Epoch 16/20\n",
      "1875/1875 [==============================] - 19s 10ms/step - loss: 0.0962 - sparse_categorical_accuracy: 0.9714 - val_loss: 0.0340 - val_sparse_categorical_accuracy: 0.9893\n",
      "Epoch 17/20\n",
      "1875/1875 [==============================] - 20s 10ms/step - loss: 0.0929 - sparse_categorical_accuracy: 0.9721 - val_loss: 0.0323 - val_sparse_categorical_accuracy: 0.9895\n",
      "Epoch 18/20\n",
      "1875/1875 [==============================] - 19s 10ms/step - loss: 0.0882 - sparse_categorical_accuracy: 0.9747 - val_loss: 0.0313 - val_sparse_categorical_accuracy: 0.9900\n",
      "Epoch 19/20\n",
      "1875/1875 [==============================] - 19s 10ms/step - loss: 0.0876 - sparse_categorical_accuracy: 0.9745 - val_loss: 0.0278 - val_sparse_categorical_accuracy: 0.9906\n",
      "Epoch 20/20\n",
      "1875/1875 [==============================] - 19s 10ms/step - loss: 0.0821 - sparse_categorical_accuracy: 0.9761 - val_loss: 0.0283 - val_sparse_categorical_accuracy: 0.9912\n"
     ]
    }
   ],
   "source": [
    "result = model.fit(\n",
    "    x=x_train,\n",
    "    y=y_train,\n",
    "    batch_size=BATCH_SIZE,\n",
    "    epochs=20,\n",
    "    validation_data=(x_test,y_test),\n",
    "    shuffle=True,\n",
    "    verbose=True,\n",
    "    use_multiprocessing = False)"
   ]
  },
  {
   "cell_type": "markdown",
   "id": "06686b97-68fc-4a0d-99d6-8e91d1a0f3a1",
   "metadata": {},
   "source": [
    "Проверка точности"
   ]
  },
  {
   "cell_type": "code",
   "execution_count": 10,
   "id": "c86a4a91-5488-4dfb-b585-07594545949f",
   "metadata": {
    "tags": []
   },
   "outputs": [
    {
     "name": "stdout",
     "output_type": "stream",
     "text": [
      "1875/1875 [==============================] - 10s 5ms/step - loss: 0.0230 - sparse_categorical_accuracy: 0.9930\n",
      "Точность на обучающай выборке: 99.2983341217041%\n"
     ]
    }
   ],
   "source": [
    "score = model.evaluate(x = x_train,y = y_train, verbose=1)\n",
    "print('Точность на обучающай выборке: {}%'.format(score[1]*100))"
   ]
  },
  {
   "cell_type": "code",
   "execution_count": 11,
   "id": "6f9bbdd3-f483-4ab7-9c2e-5ba61a96e51d",
   "metadata": {
    "tags": []
   },
   "outputs": [
    {
     "name": "stdout",
     "output_type": "stream",
     "text": [
      "313/313 [==============================] - 2s 6ms/step - loss: 0.0283 - sparse_categorical_accuracy: 0.9912\n",
      "Точность на тестовой выборке: 99.11999702453613%\n"
     ]
    }
   ],
   "source": [
    "score = model.evaluate(x = x_test,y = y_test, verbose=1)\n",
    "print('Точность на тестовой выборке: {}%'.format(score[1]*100))"
   ]
  },
  {
   "cell_type": "markdown",
   "id": "f5456632-683f-496e-9e23-b004c66c8e4f",
   "metadata": {},
   "source": [
    "Построение графиков"
   ]
  },
  {
   "cell_type": "code",
   "execution_count": 12,
   "id": "ddb44d3b-f5fc-45a2-a488-fe1fc350baa9",
   "metadata": {},
   "outputs": [
    {
     "data": {
      "image/png": "[encoded data removed]",
      "text/plain": [
       "<Figure size 1200x500 with 2 Axes>"
      ]
     },
     "metadata": {
      "needs_background": "light"
     },
     "output_type": "display_data"
    }
   ],
   "source": [
    "#Графики\n",
    "px = 1/pyplot.rcParams['figure.dpi']\n",
    "fig, (ax1,ax2) = pyplot.subplots(ncols=2, figsize=(1200*px,500*px))\n",
    "\n",
    "ax1.plot(result.history['loss'], color='green')\n",
    "ax1.plot(result.history['val_loss'], color='red')\n",
    "ax1.legend(['loss','val_loss'])\n",
    "ax1.set_ylabel('loss')\n",
    "ax1.set_xlabel('epoch')\n",
    "ax1.grid(True)\n",
    "\n",
    "ax2.plot(result.history['sparse_categorical_accuracy'], color='green')\n",
    "ax2.plot(result.history['val_sparse_categorical_accuracy'], color='red')\n",
    "ax2.legend(['accuracy','val_accuracy'])\n",
    "ax2.set_ylabel('accuracy')\n",
    "ax2.set_xlabel('epoch')\n",
    "ax2.grid(True)"
   ]
  },
  {
   "cell_type": "code",
   "execution_count": null,
   "id": "380aa391-0c80-4049-978c-38373f716a88",
   "metadata": {},
   "outputs": [],
   "source": []
  }
 ],
 "metadata": {
  "kernelspec": {
   "display_name": "Python 3 (ipykernel)",
   "language": "python",
   "name": "python3"
  },
  "language_info": {
   "codemirror_mode": {
    "name": "ipython",
    "version": 3
   },
   "file_extension": ".py",
   "mimetype": "text/x-python",
   "name": "python",
   "nbconvert_exporter": "python",
   "pygments_lexer": "ipython3",
   "version": "3.9.7"
  }
 },
 "nbformat": 4,
 "nbformat_minor": 5
}
