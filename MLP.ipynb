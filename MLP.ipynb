{
 "cells": [
  {
   "cell_type": "markdown",
   "id": "9a114166-358c-494c-a490-5a1703f577b8",
   "metadata": {},
   "source": [
    "Импорт библиотек"
   ]
  },
  {
   "cell_type": "code",
   "execution_count": 1,
   "id": "b967861d-9d9c-4a1e-8b78-24696af07fae",
   "metadata": {
    "tags": []
   },
   "outputs": [],
   "source": [
    "import tensorflow as tf\n",
    "from keras.datasets import mnist\n",
    "import numpy as np\n",
    "from matplotlib import pyplot\n",
    "from tensorflow.keras.optimizers import SGD\n",
    "import tensorflow.keras.layers as layers\n",
    "\n"
   ]
  },
  {
   "cell_type": "markdown",
   "id": "d52ec118-5ec5-4f59-95ee-36657b5b120f",
   "metadata": {},
   "source": [
    "Модуль для ограничения потребления видеопамяти (4 гига)"
   ]
  },
  {
   "cell_type": "code",
   "execution_count": 2,
   "id": "c6339fe7-2036-487e-8fc1-90f2232460a4",
   "metadata": {},
   "outputs": [],
   "source": [
    "gpus = tf.config.list_physical_devices('GPU')\n",
    "if gpus:\n",
    "  # Restrict TensorFlow to only allocate 1GB of memory on the first GPU\n",
    "  try:\n",
    "    tf.config.set_logical_device_configuration(\n",
    "        gpus[0],\n",
    "        [tf.config.LogicalDeviceConfiguration(memory_limit=4096)])\n",
    "  except RuntimeError as e:\n",
    "    # Virtual devices must be set before GPUs have been initialized\n",
    "    print(e)"
   ]
  },
  {
   "cell_type": "code",
   "execution_count": 3,
   "id": "9d7ed6a3-bdb1-497d-9192-2f2124601f1b",
   "metadata": {},
   "outputs": [],
   "source": [
    "BATCH_SIZE = 32\n",
    "IMAGE_SIZE = (28, 28)"
   ]
  },
  {
   "cell_type": "markdown",
   "id": "47fc5075-3c3b-4611-ae5a-3e97fe35f4b5",
   "metadata": {},
   "source": [
    "Загрузка данных для обучения и тестирования"
   ]
  },
  {
   "cell_type": "code",
   "execution_count": 4,
   "id": "ccb101f7-dfdf-40a7-94f4-e56fe376b24f",
   "metadata": {},
   "outputs": [],
   "source": [
    "(x_train, y_train), (x_test, y_test) = mnist.load_data()\n",
    "\n",
    "x_train = x_train.reshape(60000, 784).astype('float32') / 255\n",
    "x_test = x_test.reshape(10000, 784).astype('float32') / 255\n",
    "\n",
    "y_train = y_train.astype('float32')\n",
    "y_test = y_test.astype('float32')\n"
   ]
  },
  {
   "cell_type": "code",
   "execution_count": 5,
   "id": "2abf30ad-9081-4ecf-94ac-469107f70a9b",
   "metadata": {},
   "outputs": [
    {
     "name": "stdout",
     "output_type": "stream",
     "text": [
      "X_train: (60000, 784)\n",
      "Y_train: (60000,)\n",
      "X_test:  (10000, 784)\n",
      "Y_test:  (10000,)\n"
     ]
    }
   ],
   "source": [
    "print('X_train: '  + str(x_train.shape))\n",
    "print('Y_train: '  + str(y_train.shape))\n",
    "print('X_test:  '  + str(x_test.shape))\n",
    "print('Y_test:  '  + str(y_test.shape))\n"
   ]
  },
  {
   "cell_type": "code",
   "execution_count": 6,
   "id": "69869c26-aad2-49d1-93b2-6ab598e446e6",
   "metadata": {},
   "outputs": [],
   "source": [
    "model = tf.keras.models.Sequential([\n",
    "    layers.Dense(64, activation='relu', input_shape=(784,)),\n",
    "    layers.Dropout(0.2),\n",
    "    \n",
    "    layers.Dense(64, activation='relu'),\n",
    "    layers.Dropout(0.2),\n",
    "        \n",
    "    layers.Dense(128, activation='relu'),\n",
    "    layers.Dropout(0.2),\n",
    "    \n",
    "    layers.Dense(128, activation='relu'),\n",
    "    layers.Dropout(0.5),\n",
    "    layers.Dense(10, activation='sigmoid')\n",
    "])"
   ]
  },
  {
   "cell_type": "markdown",
   "id": "7579ea82-34c7-40ce-b493-5e19877dba4c",
   "metadata": {},
   "source": [
    "Определение оптимизатора, метода расчета потерь и собираемых метрик"
   ]
  },
  {
   "cell_type": "code",
   "execution_count": 7,
   "id": "4c22c319-502d-4913-8164-9a3e23046c96",
   "metadata": {},
   "outputs": [
    {
     "name": "stdout",
     "output_type": "stream",
     "text": [
      "Model: \"sequential\"\n",
      "_________________________________________________________________\n",
      " Layer (type)                Output Shape              Param #   \n",
      "=================================================================\n",
      " dense (Dense)               (None, 64)                50240     \n",
      "                                                                 \n",
      " dropout (Dropout)           (None, 64)                0         \n",
      "                                                                 \n",
      " dense_1 (Dense)             (None, 64)                4160      \n",
      "                                                                 \n",
      " dropout_1 (Dropout)         (None, 64)                0         \n",
      "                                                                 \n",
      " dense_2 (Dense)             (None, 128)               8320      \n",
      "                                                                 \n",
      " dropout_2 (Dropout)         (None, 128)               0         \n",
      "                                                                 \n",
      " dense_3 (Dense)             (None, 128)               16512     \n",
      "                                                                 \n",
      " dropout_3 (Dropout)         (None, 128)               0         \n",
      "                                                                 \n",
      " dense_4 (Dense)             (None, 10)                1290      \n",
      "                                                                 \n",
      "=================================================================\n",
      "Total params: 80,522\n",
      "Trainable params: 80,522\n",
      "Non-trainable params: 0\n",
      "_________________________________________________________________\n"
     ]
    }
   ],
   "source": [
    "opt = SGD(learning_rate=0.001, momentum=0.9)\n",
    "model.compile(\n",
    "    optimizer=opt,\n",
    "    loss='sparse_categorical_crossentropy',\n",
    "    metrics=['sparse_categorical_accuracy'])\n",
    "model.summary()"
   ]
  },
  {
   "cell_type": "markdown",
   "id": "8283492f-71bc-44f4-a8af-0a3aa0326ca4",
   "metadata": {},
   "source": [
    "Обучение модели"
   ]
  },
  {
   "cell_type": "code",
   "execution_count": 8,
   "id": "a3c03203-5b54-4433-a4d1-ad8d2f95a16b",
   "metadata": {},
   "outputs": [
    {
     "name": "stdout",
     "output_type": "stream",
     "text": [
      "Epoch 1/20\n",
      "1875/1875 [==============================] - 15s 7ms/step - loss: 1.4933 - sparse_categorical_accuracy: 0.4753 - val_loss: 0.5073 - val_sparse_categorical_accuracy: 0.8643\n",
      "Epoch 2/20\n",
      "1875/1875 [==============================] - 14s 7ms/step - loss: 0.6168 - sparse_categorical_accuracy: 0.8131 - val_loss: 0.2940 - val_sparse_categorical_accuracy: 0.9136\n",
      "Epoch 3/20\n",
      "1875/1875 [==============================] - 14s 8ms/step - loss: 0.4489 - sparse_categorical_accuracy: 0.8693 - val_loss: 0.2343 - val_sparse_categorical_accuracy: 0.9282\n",
      "Epoch 4/20\n",
      "1875/1875 [==============================] - 14s 8ms/step - loss: 0.3785 - sparse_categorical_accuracy: 0.8942 - val_loss: 0.2005 - val_sparse_categorical_accuracy: 0.9388\n",
      "Epoch 5/20\n",
      "1875/1875 [==============================] - 14s 8ms/step - loss: 0.3316 - sparse_categorical_accuracy: 0.9085 - val_loss: 0.1843 - val_sparse_categorical_accuracy: 0.9450\n",
      "Epoch 6/20\n",
      "1875/1875 [==============================] - 14s 8ms/step - loss: 0.3020 - sparse_categorical_accuracy: 0.9160 - val_loss: 0.1659 - val_sparse_categorical_accuracy: 0.9502\n",
      "Epoch 7/20\n",
      "1875/1875 [==============================] - 14s 8ms/step - loss: 0.2795 - sparse_categorical_accuracy: 0.9230 - val_loss: 0.1614 - val_sparse_categorical_accuracy: 0.9509\n",
      "Epoch 8/20\n",
      "1875/1875 [==============================] - 14s 8ms/step - loss: 0.2603 - sparse_categorical_accuracy: 0.9287 - val_loss: 0.1476 - val_sparse_categorical_accuracy: 0.9563\n",
      "Epoch 9/20\n",
      "1875/1875 [==============================] - 14s 8ms/step - loss: 0.2385 - sparse_categorical_accuracy: 0.9341 - val_loss: 0.1371 - val_sparse_categorical_accuracy: 0.9588\n",
      "Epoch 10/20\n",
      "1875/1875 [==============================] - 14s 8ms/step - loss: 0.2296 - sparse_categorical_accuracy: 0.9374 - val_loss: 0.1344 - val_sparse_categorical_accuracy: 0.9616\n",
      "Epoch 11/20\n",
      "1875/1875 [==============================] - 14s 8ms/step - loss: 0.2200 - sparse_categorical_accuracy: 0.9398 - val_loss: 0.1272 - val_sparse_categorical_accuracy: 0.9635\n",
      "Epoch 12/20\n",
      "1875/1875 [==============================] - 15s 8ms/step - loss: 0.2076 - sparse_categorical_accuracy: 0.9434 - val_loss: 0.1280 - val_sparse_categorical_accuracy: 0.9625\n",
      "Epoch 13/20\n",
      "1875/1875 [==============================] - 15s 8ms/step - loss: 0.2032 - sparse_categorical_accuracy: 0.9443 - val_loss: 0.1172 - val_sparse_categorical_accuracy: 0.9670\n",
      "Epoch 14/20\n",
      "1875/1875 [==============================] - 15s 8ms/step - loss: 0.1926 - sparse_categorical_accuracy: 0.9477 - val_loss: 0.1187 - val_sparse_categorical_accuracy: 0.9658\n",
      "Epoch 15/20\n",
      "1875/1875 [==============================] - 15s 8ms/step - loss: 0.1888 - sparse_categorical_accuracy: 0.9482 - val_loss: 0.1173 - val_sparse_categorical_accuracy: 0.9671\n",
      "Epoch 16/20\n",
      "1875/1875 [==============================] - 15s 8ms/step - loss: 0.1810 - sparse_categorical_accuracy: 0.9507 - val_loss: 0.1119 - val_sparse_categorical_accuracy: 0.9677\n",
      "Epoch 17/20\n",
      "1875/1875 [==============================] - 14s 8ms/step - loss: 0.1721 - sparse_categorical_accuracy: 0.9531 - val_loss: 0.1111 - val_sparse_categorical_accuracy: 0.9680\n",
      "Epoch 18/20\n",
      "1875/1875 [==============================] - 13s 7ms/step - loss: 0.1709 - sparse_categorical_accuracy: 0.9533 - val_loss: 0.1141 - val_sparse_categorical_accuracy: 0.9677\n",
      "Epoch 19/20\n",
      "1875/1875 [==============================] - 12s 6ms/step - loss: 0.1630 - sparse_categorical_accuracy: 0.9544 - val_loss: 0.1128 - val_sparse_categorical_accuracy: 0.9684\n",
      "Epoch 20/20\n",
      "1875/1875 [==============================] - 12s 6ms/step - loss: 0.1601 - sparse_categorical_accuracy: 0.9560 - val_loss: 0.1122 - val_sparse_categorical_accuracy: 0.9673\n"
     ]
    }
   ],
   "source": [
    "result = model.fit(\n",
    "    x=x_train,\n",
    "    y=y_train,\n",
    "    batch_size=BATCH_SIZE,\n",
    "    epochs=20,\n",
    "    validation_data=(x_test,y_test),\n",
    "    shuffle=True,\n",
    "    verbose=True)"
   ]
  },
  {
   "cell_type": "markdown",
   "id": "cac2e4da-aa8f-4a65-8c64-46efeb8c41f4",
   "metadata": {},
   "source": [
    "Проверка точности"
   ]
  },
  {
   "cell_type": "code",
   "execution_count": 9,
   "id": "8a2fbe30-9d98-4c61-ab38-d9991611b72c",
   "metadata": {
    "tags": []
   },
   "outputs": [
    {
     "name": "stdout",
     "output_type": "stream",
     "text": [
      "1875/1875 [==============================] - 6s 3ms/step - loss: 0.0727 - sparse_categorical_accuracy: 0.9793\n",
      "Точность на обучающай выборке: 97.92666435241699%\n"
     ]
    }
   ],
   "source": [
    "score = model.evaluate(x = x_train,y = y_train, verbose=1)\n",
    "print('Точность на обучающай выборке: {}%'.format(score[1]*100))"
   ]
  },
  {
   "cell_type": "code",
   "execution_count": 10,
   "id": "9c50142c-7bcf-4699-9f7b-eab0755cfe26",
   "metadata": {
    "tags": []
   },
   "outputs": [
    {
     "name": "stdout",
     "output_type": "stream",
     "text": [
      "313/313 [==============================] - 1s 3ms/step - loss: 0.1122 - sparse_categorical_accuracy: 0.9673\n",
      "Точность на тестовой выборке: 96.72999978065491%\n"
     ]
    }
   ],
   "source": [
    "score = model.evaluate(x = x_test,y = y_test, verbose=1)\n",
    "print('Точность на тестовой выборке: {}%'.format(score[1]*100))"
   ]
  },
  {
   "cell_type": "markdown",
   "id": "5a2a85a2-aa8d-402d-bb97-e45394f4d377",
   "metadata": {},
   "source": [
    "Построение графиков"
   ]
  },
  {
   "cell_type": "code",
   "execution_count": 11,
   "id": "fd976e00-42b8-478f-ba52-a63f0eb4192a",
   "metadata": {},
   "outputs": [
    {
     "data": {
      "image/png": "[encoded data removed]",
      "text/plain": [
       "<Figure size 1200x500 with 2 Axes>"
      ]
     },
     "metadata": {
      "needs_background": "light"
     },
     "output_type": "display_data"
    }
   ],
   "source": [
    "#Графики\n",
    "px = 1/pyplot.rcParams['figure.dpi']\n",
    "fig, (ax1,ax2) = pyplot.subplots(ncols=2, figsize=(1200*px,500*px))\n",
    "\n",
    "ax1.plot(result.history['loss'], color='green')\n",
    "ax1.plot(result.history['val_loss'], color='red')\n",
    "ax1.legend(['loss','val_loss'])\n",
    "ax1.set_ylabel('loss')\n",
    "ax1.set_xlabel('epoch')\n",
    "ax1.grid(True)\n",
    "\n",
    "ax2.plot(result.history['sparse_categorical_accuracy'], color='green')\n",
    "ax2.plot(result.history['val_sparse_categorical_accuracy'], color='red')\n",
    "ax2.legend(['accuracy','val_accuracy'])\n",
    "ax2.set_ylabel('accuracy')\n",
    "ax2.set_xlabel('epoch')\n",
    "ax2.grid(True)"
   ]
  },
  {
   "cell_type": "code",
   "execution_count": null,
   "id": "648ac489-533d-4648-a575-4859c111126d",
   "metadata": {},
   "outputs": [],
   "source": []
  }
 ],
 "metadata": {
  "kernelspec": {
   "display_name": "Python 3 (ipykernel)",
   "language": "python",
   "name": "python3"
  },
  "language_info": {
   "codemirror_mode": {
    "name": "ipython",
    "version": 3
   },
   "file_extension": ".py",
   "mimetype": "text/x-python",
   "name": "python",
   "nbconvert_exporter": "python",
   "pygments_lexer": "ipython3",
   "version": "3.9.7"
  }
 },
 "nbformat": 4,
 "nbformat_minor": 5
}
